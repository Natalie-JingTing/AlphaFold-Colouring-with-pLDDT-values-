{
 "cells": [
  {
   "cell_type": "markdown",
   "id": "6c5536c1-24bb-46dd-8d8d-2496b9447aad",
   "metadata": {},
   "source": [
    "## Translating nucleotide to amino acid sequences\n",
    "Code written by Eugene Gan, Ng Jing Ting and Tay Hui Yi \n",
    "\n",
    "#### File format: FASTA file format of individual nucleotide sequences, collated in a file\n",
    "\n",
    "#### Required packages: Biopython"
   ]
  },
  {
   "cell_type": "code",
   "execution_count": null,
   "id": "c9b6aac4-86be-49fc-940f-6005fe1cbf74",
   "metadata": {},
   "outputs": [],
   "source": [
    "#packages to be imported, which needs to be downloaded prior\n",
    "from Bio.Seq import Seq\n",
    "import os\n",
    "import glob"
   ]
  },
  {
   "cell_type": "markdown",
   "id": "f06ce4bb-d2c2-4e34-8a71-8b99843b4f14",
   "metadata": {},
   "source": [
    "### 1. Translating individual sequences on the notebook"
   ]
  },
  {
   "cell_type": "code",
   "execution_count": null,
   "id": "90066c4c-4be9-408c-8cdc-940033efc093",
   "metadata": {},
   "outputs": [],
   "source": [
    "#if you want to directly translate a sequence\n",
    "def translate(dnaSeq):\n",
    "    strand = Seq(dnaSeq)\n",
    "    return str(strand.translate())"
   ]
  },
  {
   "cell_type": "code",
   "execution_count": null,
   "id": "465be8b4-b3c2-4c1d-a3ea-dd2aa6116515",
   "metadata": {},
   "outputs": [],
   "source": [
    "#insert sequence\n",
    "translate(\"\")"
   ]
  },
  {
   "cell_type": "markdown",
   "id": "327a0444-8e84-45cf-be9e-f1fd693a1de9",
   "metadata": {},
   "source": [
    "### 2. Looping the translation within a file\n",
    "\n",
    "- all files should be in FASTA format\n",
    "  "
   ]
  },
  {
   "cell_type": "markdown",
   "id": "c3884009-0e37-4c28-8c9c-aa84fcc63ab3",
   "metadata": {},
   "source": [
    "### 2.1. Change your directory to the file containing all your sequences"
   ]
  },
  {
   "cell_type": "code",
   "execution_count": null,
   "id": "8e8d1d1e-a0c5-45d0-8c66-1fd5fe24b9a7",
   "metadata": {},
   "outputs": [],
   "source": [
    "#What is your current working directory?\n",
    "os.getcwd()"
   ]
  },
  {
   "cell_type": "code",
   "execution_count": null,
   "id": "c5a66e22-510d-404f-ac72-cc7129c9d8c6",
   "metadata": {},
   "outputs": [],
   "source": [
    "#Change to desired directory\n",
    "os.chdir('./')"
   ]
  },
  {
   "cell_type": "code",
   "execution_count": null,
   "id": "c7762556-206e-4600-a25a-939a81a659cf",
   "metadata": {},
   "outputs": [],
   "source": [
    "#check your current directory\n",
    "os.getcwd()"
   ]
  },
  {
   "cell_type": "markdown",
   "id": "c258dc91-7079-4671-8e72-841dd0d90407",
   "metadata": {},
   "source": [
    "### 2.2 Reading the files in the directory"
   ]
  },
  {
   "cell_type": "code",
   "execution_count": null,
   "id": "76b10995-d848-4e3c-8b67-413accd06976",
   "metadata": {},
   "outputs": [],
   "source": [
    "#Name all files as gt_data\n",
    "gt_data = glob.glob(\"*\")"
   ]
  },
  {
   "cell_type": "code",
   "execution_count": null,
   "id": "4b61b497-23dc-4153-a351-a04e32ac9ddd",
   "metadata": {},
   "outputs": [],
   "source": [
    "#Checking if all files are read\n",
    "gt_data"
   ]
  },
  {
   "cell_type": "markdown",
   "id": "593be47d-a984-4dbd-a597-8041e1a4e264",
   "metadata": {},
   "source": [
    "### 3. Carrying out the loop"
   ]
  },
  {
   "cell_type": "code",
   "execution_count": null,
   "id": "3b08affb-1348-40a9-b1ad-fa20f750a2cc",
   "metadata": {},
   "outputs": [],
   "source": [
    "#Prior to translation, check for the number of bases within each file\n",
    "#Format of output: file name /n number of nucleotides /n checking if the number of nucleotides are multiples of 3\n",
    "for i in range(0, len(gt_data)):\n",
    "    openFileName = str(gt_data[i])\n",
    "    print(openFileName)\n",
    "    file = open(openFileName, \"r\")\n",
    "    lines = file.readlines()\n",
    "    seq = \"\"\n",
    "    start = False\n",
    "    for line in lines:\n",
    "        if \">\" in line:\n",
    "            start = True\n",
    "        elif start and line!=\"\\n\":\n",
    "            print(len(line))\n",
    "            print(len(line)%3)"
   ]
  },
  {
   "cell_type": "code",
   "execution_count": null,
   "id": "abfe5a56-5db6-4cd9-ae42-593c2c49eefd",
   "metadata": {},
   "outputs": [],
   "source": [
    "#Carrying out tranaslation\n",
    "#Writing a new file, in FASTA format, for the translated sequences\n",
    "#Note to user: you are able to change the file name of the translated sequences\n",
    "for i in range(0, len(gt_data)):\n",
    "    openFileName = str(gt_data[i])\n",
    "    file = open(openFileName, \"r\")\n",
    "    lines = file.readlines()\n",
    "    for line in lines:\n",
    "        if \">\" in line:\n",
    "            filename = openFileName + \"_translated\"                 #filename can be modified by user\n",
    "            print(filename)\n",
    "            outfile = open(filename, 'w')\n",
    "            outfile.write(str(line))\n",
    "        elif line != \"\\n\":\n",
    "            translatedSeq = (str(Seq(line).translate()))\n",
    "            outfile.write(translatedSeq)\n",
    "            outfile.close()\n",
    "    file.close()"
   ]
  },
  {
   "cell_type": "markdown",
   "id": "fefc5ddd-421d-4ca0-891f-60aa7a7d3f3b",
   "metadata": {},
   "source": [
    "### 4. Combining all translated files to a single file\n",
    "\n",
    "- Note to user: change the working directory to the file containing ONLY the translated sequences. This may be done manually. Alternatively, you may redirect your newly written files containing the translated sequences into a new file to facilitate this process."
   ]
  },
  {
   "cell_type": "code",
   "execution_count": null,
   "id": "0988a264-6281-4261-a787-a74b9f32b30f",
   "metadata": {},
   "outputs": [],
   "source": [
    "#User may need to change the working directory once again (refer to the code in 2.1 for clearer steps)\n",
    "os.chdir('./')"
   ]
  },
  {
   "cell_type": "code",
   "execution_count": null,
   "id": "5b2bcc47-026b-4588-b89a-e9727095610d",
   "metadata": {},
   "outputs": [],
   "source": [
    "#combining the files\n",
    "name = \"translated\"                                               #may be modified by user\n",
    "outfile = open(name, 'w')\n",
    "for i in range(0, len(gt_data)):\n",
    "    openFileName = str(gt_data[i])\n",
    "    file = open(openFileName, \"r\")\n",
    "    lines = file.readlines()\n",
    "    for line in lines:\n",
    "        outfile.write(line)\n",
    "        #outfile.write(\"\\n\")\n",
    "    outfile.write(\"\\n\")\n",
    "    file.close()\n",
    "outfile.close()"
   ]
  }
 ],
 "metadata": {
  "kernelspec": {
   "display_name": "Python 3",
   "language": "python",
   "name": "python3"
  },
  "language_info": {
   "codemirror_mode": {
    "name": "ipython",
    "version": 3
   },
   "file_extension": ".py",
   "mimetype": "text/x-python",
   "name": "python",
   "nbconvert_exporter": "python",
   "pygments_lexer": "ipython3",
   "version": "3.7.3"
  }
 },
 "nbformat": 4,
 "nbformat_minor": 5
}
