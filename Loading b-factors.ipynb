{
 "cells": [
  {
   "cell_type": "markdown",
   "id": "633acc4f",
   "metadata": {},
   "source": [
    "## Colouring of PDB structures using pLLDT values (Version AlphaFold2 and below)"
   ]
  },
  {
   "cell_type": "markdown",
   "id": "2b1ca9d7-e5f6-4d39-955f-f9c7ac67ab64",
   "metadata": {},
   "source": [
    "This code is written by Eugene Gan, Ng Jing Ting and Tay Hui Yi for SP3172 - Decoding Capsule Synthesis, under the guidance of Prof. Sham Lok To."
   ]
  },
  {
   "cell_type": "code",
   "execution_count": 1,
   "id": "59868888",
   "metadata": {},
   "outputs": [],
   "source": [
    "# Import all required packages \n",
    "\n",
    "from Bio.PDB import *\n",
    "import pickle\n",
    "import glob\n",
    "import os"
   ]
  },
  {
   "cell_type": "code",
   "execution_count": null,
   "id": "15e4d709",
   "metadata": {},
   "outputs": [],
   "source": [
    "# Change working directory to the folder (*) with the PDB structure to be changed \n",
    "\n",
    "os.chdir(*)"
   ]
  },
  {
   "cell_type": "code",
   "execution_count": null,
   "id": "2b7099c3",
   "metadata": {},
   "outputs": [],
   "source": [
    "# Check working directory \n",
    "\n",
    "print(os.getcwd())"
   ]
  },
  {
   "cell_type": "code",
   "execution_count": null,
   "id": "bb51dbee",
   "metadata": {},
   "outputs": [],
   "source": [
    "# Object to read the pdb file (*.pdb)\n",
    "\n",
    "parser = PDBParser()"
   ]
  },
  {
   "cell_type": "code",
   "execution_count": null,
   "id": "393efcfb",
   "metadata": {},
   "outputs": [],
   "source": [
    "# Method 1: we can read *.pdb as it's structure \n",
    "\n",
    "structure = parser.get_structure(\"mol\", \"*.pdb\")"
   ]
  },
  {
   "cell_type": "code",
   "execution_count": null,
   "id": "47778311",
   "metadata": {},
   "outputs": [],
   "source": [
    "# Method 2: we can view *.pdb as a dictionary\n",
    "\n",
    "handle = open(\"*.pdb\", \"r\")\n",
    "header_dict = parse_pdb_header(handle)\n",
    "handle.close()"
   ]
  },
  {
   "cell_type": "code",
   "execution_count": null,
   "id": "9cc86010",
   "metadata": {},
   "outputs": [],
   "source": [
    "# Check b-factor all of atoms\n",
    "\n",
    "for atom in structure.get_atoms():\n",
    "    print(atom.get_bfactor())"
   ]
  },
  {
   "cell_type": "code",
   "execution_count": null,
   "id": "5b4344b3",
   "metadata": {},
   "outputs": [],
   "source": [
    "# Check to see if the structure obj is properly initialised\n",
    "\n",
    "counter = 0\n",
    "for atom in structure.get_atoms():\n",
    "    print(atom)\n",
    "    counter += 1\n",
    "    print(counter) # Corresponds to the number of atoms in *.pdb"
   ]
  },
  {
   "cell_type": "code",
   "execution_count": null,
   "id": "778b9a64",
   "metadata": {},
   "outputs": [],
   "source": [
    "# Read the pkl file (*.pkl) generated from AlphaFold to obtain the pLDDT values (i.e. new B factors)\n",
    "\n",
    "with open('*.pkl', 'rb') as pickle_file:\n",
    "    new_data = pickle.load(pickle_file)"
   ]
  },
  {
   "cell_type": "code",
   "execution_count": null,
   "id": "c06b8fd6",
   "metadata": {},
   "outputs": [],
   "source": [
    "# Write text in pkl file into a normal file that can be read easily \n",
    "# Check of accurate extraction of pLDDT values\n",
    "\n",
    "f = open(\"pkl_output\", \"w\")\n",
    "f.write(str(new_data))\n",
    "f.close()"
   ]
  },
  {
   "cell_type": "code",
   "execution_count": null,
   "id": "eed5512d",
   "metadata": {},
   "outputs": [],
   "source": [
    "# Check if pkl file has been written correctly \n",
    "\n",
    "f = open(\"pkl_output\", \"r\")\n",
    "print(f.read())"
   ]
  },
  {
   "cell_type": "code",
   "execution_count": null,
   "id": "038a6912",
   "metadata": {},
   "outputs": [],
   "source": [
    "# Write pLDDT values into a new file\n",
    "\n",
    "f = open(\"pLDDT_values\", \"w\")\n",
    "count = 0 #track the number of pLDDT values\n",
    "\n",
    "for k, v in new_data.items():\n",
    "    if k == \"plddt\":\n",
    "        for i in v:\n",
    "            f.write(str(i))\n",
    "            count += 1\n",
    "            f.write('\\n')\n",
    "f.close()"
   ]
  },
  {
   "cell_type": "code",
   "execution_count": null,
   "id": "14f81992",
   "metadata": {},
   "outputs": [],
   "source": [
    "# Check if pLDDT values are correctly formatted\n",
    "\n",
    "f = open(\"plDDT_values\", \"r\")\n",
    "print(f.read())\n",
    "print(count) # Corresponds to the number of atoms in *.pdb "
   ]
  },
  {
   "cell_type": "code",
   "execution_count": null,
   "id": "eb68b9d7",
   "metadata": {},
   "outputs": [],
   "source": [
    "# Write b-factor values into a list\n",
    "\n",
    "inFile = open(\"pLDDT_values\", \"r\")\n",
    "lines = inFile.readlines()\n",
    "newB = []\n",
    "for line in lines:\n",
    "    val = float(line[:-2])\n",
    "    newB.append(val)"
   ]
  },
  {
   "cell_type": "code",
   "execution_count": null,
   "id": "b49ca076",
   "metadata": {},
   "outputs": [],
   "source": [
    "# Check if the confidence values are properly appended as float values\n",
    "\n",
    "print(len(newB))\n",
    "print(newB)"
   ]
  },
  {
   "cell_type": "code",
   "execution_count": null,
   "id": "a262e9d7",
   "metadata": {},
   "outputs": [],
   "source": [
    "#Get the residues in the structure and place them in a list\n",
    "res_lst = Selection.unfold_entities(structure, \"R\")\n",
    "res_lst"
   ]
  },
  {
   "cell_type": "code",
   "execution_count": null,
   "id": "3c41582a",
   "metadata": {},
   "outputs": [],
   "source": [
    "# Each pLDDT score corresponds to a particular residue\n",
    "# Change all b-factor values of atoms under a particular residue to its respective pLDDT score\n",
    "\n",
    "counter = 0\n",
    "for atom in structure.get_atoms():\n",
    "    counter += 1\n",
    "    res = atom.get_parent()\n",
    "    counter = res_lst.index(res)\n",
    "    atom.set_bfactor(newB[counter])\n",
    "print(counter) # Corresponds to the number of atoms in *.pdb"
   ]
  },
  {
   "cell_type": "code",
   "execution_count": null,
   "id": "c43f3315",
   "metadata": {},
   "outputs": [],
   "source": [
    "# To download the new PDB structure with updated b factor values (filename.pdb)\n",
    "\n",
    "io = PDBIO()\n",
    "io.set_structure(structure)\n",
    "io.save(\"filename.pdb\")"
   ]
  }
 ],
 "metadata": {
  "kernelspec": {
   "display_name": "Python 3",
   "language": "python",
   "name": "python3"
  },
  "language_info": {
   "codemirror_mode": {
    "name": "ipython",
    "version": 3
   },
   "file_extension": ".py",
   "mimetype": "text/x-python",
   "name": "python",
   "nbconvert_exporter": "python",
   "pygments_lexer": "ipython3",
   "version": "3.7.3"
  }
 },
 "nbformat": 4,
 "nbformat_minor": 5
}
